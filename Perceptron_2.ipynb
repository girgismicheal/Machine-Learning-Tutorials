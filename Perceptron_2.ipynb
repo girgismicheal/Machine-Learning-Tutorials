{
  "nbformat": 4,
  "nbformat_minor": 0,
  "metadata": {
    "colab": {
      "name": "Perceptron_lab",
      "provenance": [],
      "collapsed_sections": []
    },
    "kernelspec": {
      "name": "python3",
      "display_name": "Python 3"
    },
    "language_info": {
      "name": "python"
    }
  },
  "cells": [
    {
      "cell_type": "code",
      "metadata": {
        "id": "LN2jFETz4hpd"
      },
      "source": [
        "import numpy as np\n",
        "import matplotlib.pyplot as plt\n",
        "import pandas as pd\n",
        "from sklearn.linear_model import Perceptron \n",
        "from sklearn.model_selection import train_test_split\n",
        "from sklearn.metrics import accuracy_score\n",
        "from sklearn.datasets import load_iris\n",
        "from sklearn.datasets import make_classification\n",
        "from sklearn.datasets import make_circles"
      ],
      "execution_count": null,
      "outputs": []
    },
    {
      "cell_type": "code",
      "metadata": {
        "id": "MEGtUNcGJvdt"
      },
      "source": [
        "def plotData(X, y):\n",
        "  for label in np.unique(y):\n",
        "    plt.scatter(X[y == label, 0], X[y == label, 1], label=label)\n",
        "  plt.legend()\n",
        "  plt.xlabel('Feature_1')\n",
        "  plt.ylabel('Feature_2')\n",
        "  "
      ],
      "execution_count": null,
      "outputs": []
    },
    {
      "cell_type": "code",
      "metadata": {
        "id": "IqbZMPv3_3kp"
      },
      "source": [
        "def decisionBoundary(X, est):\n",
        "  x_min, x_max = X[:, 0].min() - .5, X[:, 0].max() + .5\n",
        "  y_min, y_max = X[:, 1].min() - .5, X[:, 1].max() + .5\n",
        "  h = 0.01\n",
        "  XX, YY = np.meshgrid(np.arange(x_min, x_max, h),\n",
        "                        np.arange(y_min, y_max, h))\n",
        "  z = est.predict(np.c_[XX.ravel(), YY.ravel()])\n",
        "  ZZ = z.reshape(XX.shape)\n",
        "  plt.contourf(XX, YY, ZZ, alpha=.3)\n"
      ],
      "execution_count": null,
      "outputs": []
    },
    {
      "cell_type": "code",
      "source": [
        "def plot_decision_boundary(X, theta):\n",
        "    x1 = [min(X[:,0]), max(X[:,0])]\n",
        "    m = -theta[0][1]/theta[0][2]\n",
        "    c = -theta[0][0]/theta[0][2]\n",
        "    x2 = np.array(x1)*m - c\n",
        "    \n",
        "    # Plotting\n",
        "    fig = plt.figure(figsize=(6,4))\n",
        "    plt.plot(X[:, 0][y==0], X[:, 1][y==0], \"r^\")\n",
        "    plt.plot(X[:, 0][y==1], X[:, 1][y==1], \"bs\")\n",
        "    plt.xlabel(\"feature 1\")\n",
        "    plt.ylabel(\"feature 2\")\n",
        "    plt.plot(x1, x2, 'y-')\n"
      ],
      "metadata": {
        "id": "3woDMhvieckt"
      },
      "execution_count": null,
      "outputs": []
    },
    {
      "cell_type": "markdown",
      "metadata": {
        "id": "3rMqhNXC4tX7"
      },
      "source": [
        "## NOT, AND, OR, XOR LOGICAL FUNCTIONS WITH PERCEPTRON ## \n",
        "---\n",
        "\n"
      ]
    },
    {
      "cell_type": "code",
      "metadata": {
        "id": "-BbpTJXBJTAb"
      },
      "source": [
        "def perceptron(x, w, b):\n",
        "  a = np.dot(w,x) + b\n",
        "  return 1 if a >= 0 else 0"
      ],
      "execution_count": null,
      "outputs": []
    },
    {
      "cell_type": "code",
      "metadata": {
        "id": "_logGxHfJ235"
      },
      "source": [
        "# Exapmles\n",
        "input1 = np.array([1, 1])\n",
        "input2 = np.array([1, 0])\n",
        "input3 = np.array([0, 1])\n",
        "input4 = np.array([0, 0])"
      ],
      "execution_count": null,
      "outputs": []
    },
    {
      "cell_type": "code",
      "metadata": {
        "colab": {
          "base_uri": "https://localhost:8080/"
        },
        "id": "3sxfhAGY6DQN",
        "outputId": "6cd2f30f-dc1f-485c-87d3-55a848b8f564"
      },
      "source": [
        "def NOT(x):\n",
        "\treturn perceptron(x, w=-1, b=0.5)\n",
        "\n",
        "print(f\"NOT(0) = {NOT(0)}\")\n",
        "print(f\"NOT(1) = {NOT(1)}\")"
      ],
      "execution_count": null,
      "outputs": [
        {
          "output_type": "stream",
          "name": "stdout",
          "text": [
            "NOT(0) = 1\n",
            "NOT(1) = 0\n"
          ]
        }
      ]
    },
    {
      "cell_type": "code",
      "metadata": {
        "colab": {
          "base_uri": "https://localhost:8080/"
        },
        "id": "NxLTygh24p3m",
        "outputId": "4fe1bb0c-f912-4407-a61e-5cd986a27c01"
      },
      "source": [
        "def AND(x):\n",
        "    w = np.array([1, 1])\n",
        "    b = -1.5\n",
        "    return perceptron(x, w, b)\n",
        "\n",
        "print(f\"AND(1, 1) = {AND(input1)}\")\n",
        "print(f\"AND(1, 0) = {AND(input2)}\")\n",
        "print(f\"AND(0, 1) = {AND(input3)}\")\n",
        "print(f\"AND(0, 0) = {AND(input4)}\")"
      ],
      "execution_count": null,
      "outputs": [
        {
          "output_type": "stream",
          "name": "stdout",
          "text": [
            "AND(1, 1) = 1\n",
            "AND(1, 0) = 0\n",
            "AND(0, 1) = 0\n",
            "AND(0, 0) = 0\n"
          ]
        }
      ]
    },
    {
      "cell_type": "code",
      "metadata": {
        "colab": {
          "base_uri": "https://localhost:8080/"
        },
        "id": "Sv9IsdtF7MOR",
        "outputId": "9e1a1fdd-6194-48f6-d610-f50586d14eb1"
      },
      "source": [
        "def OR(x):\n",
        "    w = np.array([1, 1])\n",
        "    b = -0.5\n",
        "    return perceptron(x, w, b)\n",
        "\n",
        "print(f\"OR(1, 1) = {OR(input1)}\")\n",
        "print(f\"OR(1, 0) = {OR(input2)}\")\n",
        "print(f\"OR(0, 1) = {OR(input3)}\")\n",
        "print(f\"OR(0, 0) = {OR(input4)}\")"
      ],
      "execution_count": null,
      "outputs": [
        {
          "output_type": "stream",
          "name": "stdout",
          "text": [
            "OR(1, 1) = 1\n",
            "OR(1, 0) = 1\n",
            "OR(0, 1) = 1\n",
            "OR(0, 0) = 0\n"
          ]
        }
      ]
    },
    {
      "cell_type": "code",
      "metadata": {
        "colab": {
          "base_uri": "https://localhost:8080/"
        },
        "id": "1RazW5BQ7qDe",
        "outputId": "69783aa9-5f52-4a61-958a-9a57e73a1ad8"
      },
      "source": [
        "def XOR(x):\n",
        "    s_1 = AND(x)\n",
        "    s_2 = NOT(s_1)\n",
        "    s_3 = OR(x)\n",
        "    input = np.array([s_2, s_3])\n",
        "    output = AND(input)\n",
        "    return output\n",
        "\n",
        "print(f\"XOR(1, 1) = {XOR(input1)}\")\n",
        "print(f\"XOR(1, 0) = {XOR(input2)}\")\n",
        "print(f\"XOR(0, 1) = {XOR(input3)}\")\n",
        "print(f\"XOR(0, 0) = {XOR(input4)}\")"
      ],
      "execution_count": null,
      "outputs": [
        {
          "output_type": "stream",
          "name": "stdout",
          "text": [
            "XOR(1, 1) = 0\n",
            "XOR(1, 0) = 1\n",
            "XOR(0, 1) = 1\n",
            "XOR(0, 0) = 0\n"
          ]
        }
      ]
    },
    {
      "cell_type": "markdown",
      "metadata": {
        "id": "Xx_G8gFPKFYv"
      },
      "source": [
        "## Linearly Separable Dataset##\n"
      ]
    },
    {
      "cell_type": "code",
      "metadata": {
        "colab": {
          "base_uri": "https://localhost:8080/",
          "height": 314
        },
        "id": "Yf9mVZRMQ7rO",
        "outputId": "86203053-686c-4717-951c-0d97687be091"
      },
      "source": [
        "rs = 0\n",
        "X, y = make_classification(n_features=2, n_samples=200, n_redundant=0, n_clusters_per_class=1, class_sep=1.5, random_state=rs)\n",
        "plotData(X, y)\n",
        "print(X.shape)\n",
        "print(y.shape)"
      ],
      "execution_count": null,
      "outputs": [
        {
          "output_type": "stream",
          "name": "stdout",
          "text": [
            "(200, 2)\n",
            "(200,)\n"
          ]
        },
        {
          "output_type": "display_data",
          "data": {
            "image/png": "[encoded data removed]",
            "text/plain": [
              "<Figure size 432x288 with 1 Axes>"
            ]
          },
          "metadata": {
            "needs_background": "light"
          }
        }
      ]
    },
    {
      "cell_type": "code",
      "metadata": {
        "id": "p0Lahss5KD5C",
        "colab": {
          "base_uri": "https://localhost:8080/",
          "height": 297
        },
        "outputId": "dd7526c7-600c-460b-b33b-911e767f4114"
      },
      "source": [
        "clf = Perceptron()\n",
        "clf.fit(X, y)\n",
        "yp = clf.predict(X)\n",
        "print(f\"Accuracy: {accuracy_score(y, yp) * 100}%\")\n",
        "plotData(X, y)\n",
        "decisionBoundary(X, clf)"
      ],
      "execution_count": null,
      "outputs": [
        {
          "output_type": "stream",
          "name": "stdout",
          "text": [
            "Accuracy: 97.5%\n"
          ]
        },
        {
          "output_type": "display_data",
          "data": {
            "image/png": "[encoded data removed]",
            "text/plain": [
              "<Figure size 432x288 with 1 Axes>"
            ]
          },
          "metadata": {
            "needs_background": "light"
          }
        }
      ]
    },
    {
      "cell_type": "markdown",
      "metadata": {
        "id": "7OejE0Czz-Y4"
      },
      "source": [
        "##Basic Perceptron Implementation##"
      ]
    },
    {
      "cell_type": "code",
      "metadata": {
        "id": "D6MRZAHbprmG"
      },
      "source": [
        "#prediction Function (activation function)\n",
        "def pred(sample, weights):\n",
        "\tbias = weights[0][0] * -1\n",
        "\ty_p = bias + np.matmul(sample, weights[0][1:])\n",
        "\treturn (y_p >= 0).astype(int)"
      ],
      "execution_count": null,
      "outputs": []
    },
    {
      "cell_type": "code",
      "metadata": {
        "id": "rw0xQuMXA_bv"
      },
      "source": [
        "def decision(X, weights):\n",
        "  for x in np.linspace(np.amin(X[:,:1]),np.amax(X[:,:1])):\n",
        "        m = -(-1* weights[0][0]/weights[0][2])/(-1*weights[0][0]/weights[0][1])  \n",
        "        i = 1*weights[0][0]/weights[0][2]\n",
        "\n",
        "        #a = bx + c >>>>> b is slope and c is intercept\n",
        "        Y = m * x + i\n",
        "        plt.plot(x, Y, 'k.')"
      ],
      "execution_count": null,
      "outputs": []
    },
    {
      "cell_type": "code",
      "metadata": {
        "id": "OvvNXGs3bWL8",
        "colab": {
          "base_uri": "https://localhost:8080/",
          "height": 559
        },
        "outputId": "82371f40-54d6-4bcd-84e7-ed1a2b3ff3fe"
      },
      "source": [
        "X = np.array([[0,0],[0,1],[1,0],[1,1]])\n",
        "y = np.array([0,1,1,1])\n",
        "print(y.shape)\n",
        "plotData(X, y)\n",
        "plot_decision_boundary(X,weights)\n",
        "# rs = 28\n",
        "# X, y = make_classification(n_classes=2, n_features=2, n_samples=10, n_redundant=0, n_clusters_per_class=2, class_sep=0.99, random_state=rs)\n",
        "# plotData(X, y)"
      ],
      "execution_count": null,
      "outputs": [
        {
          "output_type": "stream",
          "name": "stdout",
          "text": [
            "(4,)\n"
          ]
        },
        {
          "output_type": "display_data",
          "data": {
            "text/plain": [
              "<Figure size 432x288 with 1 Axes>"
            ],
            "image/png": "[encoded data removed]"
          },
          "metadata": {
            "needs_background": "light"
          }
        },
        {
          "output_type": "display_data",
          "data": {
            "text/plain": [
              "<Figure size 432x288 with 1 Axes>"
            ],
            "image/png": "[encoded data removed]"
          },
          "metadata": {
            "needs_background": "light"
          }
        }
      ]
    },
    {
      "cell_type": "code",
      "metadata": {
        "id": "RYnhRfSctGUe",
        "colab": {
          "base_uri": "https://localhost:8080/"
        },
        "outputId": "dee8dcda-adde-4153-c0a4-609e4ce93666"
      },
      "source": [
        "weights = [[-0.05, -0.02, 0.02]]\n",
        "yp =[]\n",
        "for sample, gt in zip(X,y):\n",
        "  prediction = pred(sample,weights)\n",
        "  yp.append(prediction)\n",
        "  print(f\"Expected={gt}, Predicted={prediction}\")\n",
        "print(f\"{accuracy_score(y, yp)}\")"
      ],
      "execution_count": null,
      "outputs": [
        {
          "output_type": "stream",
          "name": "stdout",
          "text": [
            "Expected=0, Predicted=1\n",
            "Expected=1, Predicted=1\n",
            "Expected=1, Predicted=1\n",
            "Expected=1, Predicted=1\n",
            "0.75\n"
          ]
        }
      ]
    },
    {
      "cell_type": "code",
      "metadata": {
        "id": "5JrwB3b9dE02"
      },
      "source": [
        "def train(X, y, lr, n, step=False):\n",
        "  n_samples = X.shape[0]\n",
        "  n_features = X.shape[1]\n",
        "  weights = [[-0.05, -0.02, 0.02]] #np.random.uniform(low=-5, high=5, size=(1,n_features + 1))\n",
        "  #b = np.array([[-1]])\n",
        "  np.set_printoptions(precision=3)\n",
        "  loss = []\n",
        "  for epoch in range(n):\n",
        "    error_sum = 0\n",
        "    for idx, (sample, gt) in enumerate(zip(X, y)):\n",
        "      prediction = pred(sample, weights)\n",
        "      error = prediction - gt\n",
        "      error_sum += error**2\n",
        "      weights[0][0] = weights[0][0] - lr * error * (-1)\n",
        "      weights[0][1:] = weights[0][1:] - lr * error * sample\n",
        "      #plot_decision_boundary(X,weights)\n",
        "      #plt.show()\n",
        "      if idx == len(X) -1:\n",
        "        loss.append(error_sum)\n",
        "      if step:\n",
        "        print(f\"epoch={epoch}, step={idx}, lr={lr}, weights= {np.around(weights, decimals=3)}\")\n",
        "    if step==False:\n",
        "      print(f\"epoch={epoch}, lr={lr}, weights= {np.around(weights, decimals=3)}\")\n",
        "    plot_decision_boundary(X,weights)\n",
        "    plt.show()\n",
        "\n",
        "  return weights, loss\n"
      ],
      "execution_count": null,
      "outputs": []
    },
    {
      "cell_type": "code",
      "metadata": {
        "id": "XA0cbXXYvp6b",
        "colab": {
          "base_uri": "https://localhost:8080/",
          "height": 1000
        },
        "outputId": "a50d1b10-2c07-4cab-c590-09d8e1ed09bc"
      },
      "source": [
        "weights, loss = train(X, y, 0.25, 3, step=False)\n",
        "yp =[]\n",
        "for sample, gt in zip(X,y):\n",
        "  prediction = pred(sample,weights)\n",
        "  yp.append(prediction)\n",
        "  print(f\"Expected={gt}, Predicted={prediction}\")\n",
        "print(accuracy_score(y, yp))"
      ],
      "execution_count": null,
      "outputs": [
        {
          "output_type": "stream",
          "name": "stdout",
          "text": [
            "epoch=0, lr=0.25, weights= [[-0.3    0.2   -0.724]]\n"
          ]
        },
        {
          "output_type": "display_data",
          "data": {
            "text/plain": [
              "<Figure size 432x288 with 1 Axes>"
            ],
            "image/png": "[encoded data removed]"
          },
          "metadata": {
            "needs_background": "light"
          }
        },
        {
          "output_type": "stream",
          "name": "stdout",
          "text": [
            "epoch=1, lr=0.25, weights= [[-0.55   0.076 -0.336]]\n"
          ]
        },
        {
          "output_type": "display_data",
          "data": {
            "text/plain": [
              "<Figure size 432x288 with 1 Axes>"
            ],
            "image/png": "[encoded data removed]"
          },
          "metadata": {
            "needs_background": "light"
          }
        },
        {
          "output_type": "stream",
          "name": "stdout",
          "text": [
            "epoch=2, lr=0.25, weights= [[-0.8    0.095 -0.678]]\n"
          ]
        },
        {
          "output_type": "display_data",
          "data": {
            "text/plain": [
              "<Figure size 432x288 with 1 Axes>"
            ],
            "image/png": "[encoded data removed]"
          },
          "metadata": {
            "needs_background": "light"
          }
        },
        {
          "output_type": "stream",
          "name": "stdout",
          "text": [
            "Expected=0, Predicted=0\n",
            "Expected=1, Predicted=0\n",
            "Expected=0, Predicted=0\n",
            "Expected=1, Predicted=1\n",
            "Expected=1, Predicted=1\n",
            "Expected=0, Predicted=0\n",
            "Expected=1, Predicted=1\n",
            "Expected=0, Predicted=0\n",
            "Expected=0, Predicted=0\n",
            "Expected=1, Predicted=1\n",
            "0.9\n"
          ]
        }
      ]
    },
    {
      "cell_type": "code",
      "source": [
        "from sklearn.datasets import make_blobs\n",
        "from matplotlib import pyplot\n",
        "from pandas import DataFrame\n",
        "# generate 2d classification dataset\n",
        "X, y = make_blobs(n_samples=10, centers=2, n_features=2,random_state=0)\n",
        "# scatter plot, dots colored by class value\n",
        "df = DataFrame(dict(x=X[:,0], y=X[:,1], label=y))\n",
        "colors = {0:'red', 1:'blue', 2:'green'}\n",
        "fig, ax = pyplot.subplots()\n",
        "grouped = df.groupby('label')\n",
        "for key, group in grouped:\n",
        "    group.plot(ax=ax, kind='scatter', x='x', y='y', label=key, color=colors[key])\n"
      ],
      "metadata": {
        "id": "J6WNd2t4jr9N",
        "outputId": "4473ba52-860e-4985-bef6-f779a1594eb1",
        "colab": {
          "base_uri": "https://localhost:8080/",
          "height": 282
        }
      },
      "execution_count": null,
      "outputs": [
        {
          "output_type": "display_data",
          "data": {
            "text/plain": [
              "<Figure size 432x288 with 1 Axes>"
            ],
            "image/png": "[encoded data removed]"
          },
          "metadata": {
            "needs_background": "light"
          }
        }
      ]
    },
    {
      "cell_type": "code",
      "source": [
        "clf = Perceptron(early_stopping=True,n_iter_no_change=50)\n",
        "clf.fit(X, y)\n",
        "yp = clf.predict(X)\n",
        "print(f\"Accuracy: {accuracy_score(y, yp) * 100}%\")\n",
        "plotData(X, y)\n",
        "decisionBoundary(X, clf)"
      ],
      "metadata": {
        "id": "3QfzSudTjweb",
        "outputId": "d5f6a665-be98-419f-b776-60a61caa7a1f",
        "colab": {
          "base_uri": "https://localhost:8080/",
          "height": 297
        }
      },
      "execution_count": null,
      "outputs": [
        {
          "output_type": "stream",
          "name": "stdout",
          "text": [
            "Accuracy: 100.0%\n"
          ]
        },
        {
          "output_type": "display_data",
          "data": {
            "text/plain": [
              "<Figure size 432x288 with 1 Axes>"
            ],
            "image/png": "[encoded data removed]"
          },
          "metadata": {
            "needs_background": "light"
          }
        }
      ]
    }
  ]
}