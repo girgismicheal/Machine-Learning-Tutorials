{
  "nbformat": 4,
  "nbformat_minor": 0,
  "metadata": {
    "kernelspec": {
      "display_name": "Python 3",
      "language": "python",
      "name": "python3"
    },
    "language_info": {
      "codemirror_mode": {
        "name": "ipython",
        "version": 3
      },
      "file_extension": ".py",
      "mimetype": "text/x-python",
      "name": "python",
      "nbconvert_exporter": "python",
      "pygments_lexer": "ipython3",
      "version": "3.7.9"
    },
    "colab": {
      "name": "mlp_fashion_mnist.ipynb",
      "provenance": []
    },
    "widgets": {
      "application/vnd.jupyter.widget-state+json": {
        "583fdbc872474d57a022e33dc93a0a2a": {
          "model_module": "@jupyter-widgets/controls",
          "model_name": "HBoxModel",
          "model_module_version": "1.5.0",
          "state": {
            "_view_name": "HBoxView",
            "_dom_classes": [],
            "_model_name": "HBoxModel",
            "_view_module": "@jupyter-widgets/controls",
            "_model_module_version": "1.5.0",
            "_view_count": null,
            "_view_module_version": "1.5.0",
            "box_style": "",
            "layout": "IPY_MODEL_97cb31e35b0a4963acbc598dccd5a6a8",
            "_model_module": "@jupyter-widgets/controls",
            "children": [
              "IPY_MODEL_ac687594667b4f8aa13d5944d2ab2707",
              "IPY_MODEL_a755d32d072947f2aa3e910f7bdb23e2",
              "IPY_MODEL_372c8e4f665849059a7d1df8f44a7c04"
            ]
          }
        },
        "97cb31e35b0a4963acbc598dccd5a6a8": {
          "model_module": "@jupyter-widgets/base",
          "model_name": "LayoutModel",
          "model_module_version": "1.2.0",
          "state": {
            "_view_name": "LayoutView",
            "grid_template_rows": null,
            "right": null,
            "justify_content": null,
            "_view_module": "@jupyter-widgets/base",
            "overflow": null,
            "_model_module_version": "1.2.0",
            "_view_count": null,
            "flex_flow": null,
            "width": null,
            "min_width": null,
            "border": null,
            "align_items": null,
            "bottom": null,
            "_model_module": "@jupyter-widgets/base",
            "top": null,
            "grid_column": null,
            "overflow_y": null,
            "overflow_x": null,
            "grid_auto_flow": null,
            "grid_area": null,
            "grid_template_columns": null,
            "flex": null,
            "_model_name": "LayoutModel",
            "justify_items": null,
            "grid_row": null,
            "max_height": null,
            "align_content": null,
            "visibility": null,
            "align_self": null,
            "height": null,
            "min_height": null,
            "padding": null,
            "grid_auto_rows": null,
            "grid_gap": null,
            "max_width": null,
            "order": null,
            "_view_module_version": "1.2.0",
            "grid_template_areas": null,
            "object_position": null,
            "object_fit": null,
            "grid_auto_columns": null,
            "margin": null,
            "display": null,
            "left": null
          }
        },
        "ac687594667b4f8aa13d5944d2ab2707": {
          "model_module": "@jupyter-widgets/controls",
          "model_name": "HTMLModel",
          "model_module_version": "1.5.0",
          "state": {
            "_view_name": "HTMLView",
            "style": "IPY_MODEL_4a1bbc9357484b2a88b787517cabcd18",
            "_dom_classes": [],
            "description": "",
            "_model_name": "HTMLModel",
            "placeholder": "​",
            "_view_module": "@jupyter-widgets/controls",
            "_model_module_version": "1.5.0",
            "value": "100%",
            "_view_count": null,
            "_view_module_version": "1.5.0",
            "description_tooltip": null,
            "_model_module": "@jupyter-widgets/controls",
            "layout": "IPY_MODEL_1a37dec5542b4f1e87195343943f903b"
          }
        },
        "a755d32d072947f2aa3e910f7bdb23e2": {
          "model_module": "@jupyter-widgets/controls",
          "model_name": "FloatProgressModel",
          "model_module_version": "1.5.0",
          "state": {
            "_view_name": "ProgressView",
            "style": "IPY_MODEL_ee2c95a86bd64ce7987b117223e2eed1",
            "_dom_classes": [],
            "description": "",
            "_model_name": "FloatProgressModel",
            "bar_style": "success",
            "max": 9,
            "_view_module": "@jupyter-widgets/controls",
            "_model_module_version": "1.5.0",
            "value": 9,
            "_view_count": null,
            "_view_module_version": "1.5.0",
            "orientation": "horizontal",
            "min": 0,
            "description_tooltip": null,
            "_model_module": "@jupyter-widgets/controls",
            "layout": "IPY_MODEL_7fdde387e3a74b8b82671182113826d6"
          }
        },
        "372c8e4f665849059a7d1df8f44a7c04": {
          "model_module": "@jupyter-widgets/controls",
          "model_name": "HTMLModel",
          "model_module_version": "1.5.0",
          "state": {
            "_view_name": "HTMLView",
            "style": "IPY_MODEL_7fc8d0c70d6349eaa871004159806564",
            "_dom_classes": [],
            "description": "",
            "_model_name": "HTMLModel",
            "placeholder": "​",
            "_view_module": "@jupyter-widgets/controls",
            "_model_module_version": "1.5.0",
            "value": " 9/9 [50:57&lt;00:00, 347.58s/it]",
            "_view_count": null,
            "_view_module_version": "1.5.0",
            "description_tooltip": null,
            "_model_module": "@jupyter-widgets/controls",
            "layout": "IPY_MODEL_8270d1a12b1342c28d0f1b7fac67daca"
          }
        },
        "4a1bbc9357484b2a88b787517cabcd18": {
          "model_module": "@jupyter-widgets/controls",
          "model_name": "DescriptionStyleModel",
          "model_module_version": "1.5.0",
          "state": {
            "_view_name": "StyleView",
            "_model_name": "DescriptionStyleModel",
            "description_width": "",
            "_view_module": "@jupyter-widgets/base",
            "_model_module_version": "1.5.0",
            "_view_count": null,
            "_view_module_version": "1.2.0",
            "_model_module": "@jupyter-widgets/controls"
          }
        },
        "1a37dec5542b4f1e87195343943f903b": {
          "model_module": "@jupyter-widgets/base",
          "model_name": "LayoutModel",
          "model_module_version": "1.2.0",
          "state": {
            "_view_name": "LayoutView",
            "grid_template_rows": null,
            "right": null,
            "justify_content": null,
            "_view_module": "@jupyter-widgets/base",
            "overflow": null,
            "_model_module_version": "1.2.0",
            "_view_count": null,
            "flex_flow": null,
            "width": null,
            "min_width": null,
            "border": null,
            "align_items": null,
            "bottom": null,
            "_model_module": "@jupyter-widgets/base",
            "top": null,
            "grid_column": null,
            "overflow_y": null,
            "overflow_x": null,
            "grid_auto_flow": null,
            "grid_area": null,
            "grid_template_columns": null,
            "flex": null,
            "_model_name": "LayoutModel",
            "justify_items": null,
            "grid_row": null,
            "max_height": null,
            "align_content": null,
            "visibility": null,
            "align_self": null,
            "height": null,
            "min_height": null,
            "padding": null,
            "grid_auto_rows": null,
            "grid_gap": null,
            "max_width": null,
            "order": null,
            "_view_module_version": "1.2.0",
            "grid_template_areas": null,
            "object_position": null,
            "object_fit": null,
            "grid_auto_columns": null,
            "margin": null,
            "display": null,
            "left": null
          }
        },
        "ee2c95a86bd64ce7987b117223e2eed1": {
          "model_module": "@jupyter-widgets/controls",
          "model_name": "ProgressStyleModel",
          "model_module_version": "1.5.0",
          "state": {
            "_view_name": "StyleView",
            "_model_name": "ProgressStyleModel",
            "description_width": "",
            "_view_module": "@jupyter-widgets/base",
            "_model_module_version": "1.5.0",
            "_view_count": null,
            "_view_module_version": "1.2.0",
            "bar_color": null,
            "_model_module": "@jupyter-widgets/controls"
          }
        },
        "7fdde387e3a74b8b82671182113826d6": {
          "model_module": "@jupyter-widgets/base",
          "model_name": "LayoutModel",
          "model_module_version": "1.2.0",
          "state": {
            "_view_name": "LayoutView",
            "grid_template_rows": null,
            "right": null,
            "justify_content": null,
            "_view_module": "@jupyter-widgets/base",
            "overflow": null,
            "_model_module_version": "1.2.0",
            "_view_count": null,
            "flex_flow": null,
            "width": null,
            "min_width": null,
            "border": null,
            "align_items": null,
            "bottom": null,
            "_model_module": "@jupyter-widgets/base",
            "top": null,
            "grid_column": null,
            "overflow_y": null,
            "overflow_x": null,
            "grid_auto_flow": null,
            "grid_area": null,
            "grid_template_columns": null,
            "flex": null,
            "_model_name": "LayoutModel",
            "justify_items": null,
            "grid_row": null,
            "max_height": null,
            "align_content": null,
            "visibility": null,
            "align_self": null,
            "height": null,
            "min_height": null,
            "padding": null,
            "grid_auto_rows": null,
            "grid_gap": null,
            "max_width": null,
            "order": null,
            "_view_module_version": "1.2.0",
            "grid_template_areas": null,
            "object_position": null,
            "object_fit": null,
            "grid_auto_columns": null,
            "margin": null,
            "display": null,
            "left": null
          }
        },
        "7fc8d0c70d6349eaa871004159806564": {
          "model_module": "@jupyter-widgets/controls",
          "model_name": "DescriptionStyleModel",
          "model_module_version": "1.5.0",
          "state": {
            "_view_name": "StyleView",
            "_model_name": "DescriptionStyleModel",
            "description_width": "",
            "_view_module": "@jupyter-widgets/base",
            "_model_module_version": "1.5.0",
            "_view_count": null,
            "_view_module_version": "1.2.0",
            "_model_module": "@jupyter-widgets/controls"
          }
        },
        "8270d1a12b1342c28d0f1b7fac67daca": {
          "model_module": "@jupyter-widgets/base",
          "model_name": "LayoutModel",
          "model_module_version": "1.2.0",
          "state": {
            "_view_name": "LayoutView",
            "grid_template_rows": null,
            "right": null,
            "justify_content": null,
            "_view_module": "@jupyter-widgets/base",
            "overflow": null,
            "_model_module_version": "1.2.0",
            "_view_count": null,
            "flex_flow": null,
            "width": null,
            "min_width": null,
            "border": null,
            "align_items": null,
            "bottom": null,
            "_model_module": "@jupyter-widgets/base",
            "top": null,
            "grid_column": null,
            "overflow_y": null,
            "overflow_x": null,
            "grid_auto_flow": null,
            "grid_area": null,
            "grid_template_columns": null,
            "flex": null,
            "_model_name": "LayoutModel",
            "justify_items": null,
            "grid_row": null,
            "max_height": null,
            "align_content": null,
            "visibility": null,
            "align_self": null,
            "height": null,
            "min_height": null,
            "padding": null,
            "grid_auto_rows": null,
            "grid_gap": null,
            "max_width": null,
            "order": null,
            "_view_module_version": "1.2.0",
            "grid_template_areas": null,
            "object_position": null,
            "object_fit": null,
            "grid_auto_columns": null,
            "margin": null,
            "display": null,
            "left": null
          }
        },
        "c1b249dbe0f948ba87d88435e0c733a1": {
          "model_module": "@jupyter-widgets/controls",
          "model_name": "HBoxModel",
          "model_module_version": "1.5.0",
          "state": {
            "_view_name": "HBoxView",
            "_dom_classes": [],
            "_model_name": "HBoxModel",
            "_view_module": "@jupyter-widgets/controls",
            "_model_module_version": "1.5.0",
            "_view_count": null,
            "_view_module_version": "1.5.0",
            "box_style": "",
            "layout": "IPY_MODEL_cde9b4aa4a5b49778daaa36bbd7c0116",
            "_model_module": "@jupyter-widgets/controls",
            "children": [
              "IPY_MODEL_805a9222bd784e4a8335de924986c18a",
              "IPY_MODEL_8d4874d864904fb48494e939d2c63184",
              "IPY_MODEL_2673a869427e437d9b59e14ff28b7606"
            ]
          }
        },
        "cde9b4aa4a5b49778daaa36bbd7c0116": {
          "model_module": "@jupyter-widgets/base",
          "model_name": "LayoutModel",
          "model_module_version": "1.2.0",
          "state": {
            "_view_name": "LayoutView",
            "grid_template_rows": null,
            "right": null,
            "justify_content": null,
            "_view_module": "@jupyter-widgets/base",
            "overflow": null,
            "_model_module_version": "1.2.0",
            "_view_count": null,
            "flex_flow": null,
            "width": null,
            "min_width": null,
            "border": null,
            "align_items": null,
            "bottom": null,
            "_model_module": "@jupyter-widgets/base",
            "top": null,
            "grid_column": null,
            "overflow_y": null,
            "overflow_x": null,
            "grid_auto_flow": null,
            "grid_area": null,
            "grid_template_columns": null,
            "flex": null,
            "_model_name": "LayoutModel",
            "justify_items": null,
            "grid_row": null,
            "max_height": null,
            "align_content": null,
            "visibility": null,
            "align_self": null,
            "height": null,
            "min_height": null,
            "padding": null,
            "grid_auto_rows": null,
            "grid_gap": null,
            "max_width": null,
            "order": null,
            "_view_module_version": "1.2.0",
            "grid_template_areas": null,
            "object_position": null,
            "object_fit": null,
            "grid_auto_columns": null,
            "margin": null,
            "display": null,
            "left": null
          }
        },
        "805a9222bd784e4a8335de924986c18a": {
          "model_module": "@jupyter-widgets/controls",
          "model_name": "HTMLModel",
          "model_module_version": "1.5.0",
          "state": {
            "_view_name": "HTMLView",
            "style": "IPY_MODEL_8a15c6604bce49549eca21a1eb0f4358",
            "_dom_classes": [],
            "description": "",
            "_model_name": "HTMLModel",
            "placeholder": "​",
            "_view_module": "@jupyter-widgets/controls",
            "_model_module_version": "1.5.0",
            "value": "100%",
            "_view_count": null,
            "_view_module_version": "1.5.0",
            "description_tooltip": null,
            "_model_module": "@jupyter-widgets/controls",
            "layout": "IPY_MODEL_d429315b957745f782a195334ccdca3f"
          }
        },
        "8d4874d864904fb48494e939d2c63184": {
          "model_module": "@jupyter-widgets/controls",
          "model_name": "FloatProgressModel",
          "model_module_version": "1.5.0",
          "state": {
            "_view_name": "ProgressView",
            "style": "IPY_MODEL_ce63a57b3c484d658696e83cc4e3f7b0",
            "_dom_classes": [],
            "description": "",
            "_model_name": "FloatProgressModel",
            "bar_style": "success",
            "max": 19,
            "_view_module": "@jupyter-widgets/controls",
            "_model_module_version": "1.5.0",
            "value": 19,
            "_view_count": null,
            "_view_module_version": "1.5.0",
            "orientation": "horizontal",
            "min": 0,
            "description_tooltip": null,
            "_model_module": "@jupyter-widgets/controls",
            "layout": "IPY_MODEL_147669f1e67d4d9586b7a55c4758665c"
          }
        },
        "2673a869427e437d9b59e14ff28b7606": {
          "model_module": "@jupyter-widgets/controls",
          "model_name": "HTMLModel",
          "model_module_version": "1.5.0",
          "state": {
            "_view_name": "HTMLView",
            "style": "IPY_MODEL_43e2409906a24b29aff2c6629e969d18",
            "_dom_classes": [],
            "description": "",
            "_model_name": "HTMLModel",
            "placeholder": "​",
            "_view_module": "@jupyter-widgets/controls",
            "_model_module_version": "1.5.0",
            "value": " 19/19 [1:49:30&lt;00:00, 356.18s/it]",
            "_view_count": null,
            "_view_module_version": "1.5.0",
            "description_tooltip": null,
            "_model_module": "@jupyter-widgets/controls",
            "layout": "IPY_MODEL_8c4608c938c041c49edd5e78be040ab2"
          }
        },
        "8a15c6604bce49549eca21a1eb0f4358": {
          "model_module": "@jupyter-widgets/controls",
          "model_name": "DescriptionStyleModel",
          "model_module_version": "1.5.0",
          "state": {
            "_view_name": "StyleView",
            "_model_name": "DescriptionStyleModel",
            "description_width": "",
            "_view_module": "@jupyter-widgets/base",
            "_model_module_version": "1.5.0",
            "_view_count": null,
            "_view_module_version": "1.2.0",
            "_model_module": "@jupyter-widgets/controls"
          }
        },
        "d429315b957745f782a195334ccdca3f": {
          "model_module": "@jupyter-widgets/base",
          "model_name": "LayoutModel",
          "model_module_version": "1.2.0",
          "state": {
            "_view_name": "LayoutView",
            "grid_template_rows": null,
            "right": null,
            "justify_content": null,
            "_view_module": "@jupyter-widgets/base",
            "overflow": null,
            "_model_module_version": "1.2.0",
            "_view_count": null,
            "flex_flow": null,
            "width": null,
            "min_width": null,
            "border": null,
            "align_items": null,
            "bottom": null,
            "_model_module": "@jupyter-widgets/base",
            "top": null,
            "grid_column": null,
            "overflow_y": null,
            "overflow_x": null,
            "grid_auto_flow": null,
            "grid_area": null,
            "grid_template_columns": null,
            "flex": null,
            "_model_name": "LayoutModel",
            "justify_items": null,
            "grid_row": null,
            "max_height": null,
            "align_content": null,
            "visibility": null,
            "align_self": null,
            "height": null,
            "min_height": null,
            "padding": null,
            "grid_auto_rows": null,
            "grid_gap": null,
            "max_width": null,
            "order": null,
            "_view_module_version": "1.2.0",
            "grid_template_areas": null,
            "object_position": null,
            "object_fit": null,
            "grid_auto_columns": null,
            "margin": null,
            "display": null,
            "left": null
          }
        },
        "ce63a57b3c484d658696e83cc4e3f7b0": {
          "model_module": "@jupyter-widgets/controls",
          "model_name": "ProgressStyleModel",
          "model_module_version": "1.5.0",
          "state": {
            "_view_name": "StyleView",
            "_model_name": "ProgressStyleModel",
            "description_width": "",
            "_view_module": "@jupyter-widgets/base",
            "_model_module_version": "1.5.0",
            "_view_count": null,
            "_view_module_version": "1.2.0",
            "bar_color": null,
            "_model_module": "@jupyter-widgets/controls"
          }
        },
        "147669f1e67d4d9586b7a55c4758665c": {
          "model_module": "@jupyter-widgets/base",
          "model_name": "LayoutModel",
          "model_module_version": "1.2.0",
          "state": {
            "_view_name": "LayoutView",
            "grid_template_rows": null,
            "right": null,
            "justify_content": null,
            "_view_module": "@jupyter-widgets/base",
            "overflow": null,
            "_model_module_version": "1.2.0",
            "_view_count": null,
            "flex_flow": null,
            "width": null,
            "min_width": null,
            "border": null,
            "align_items": null,
            "bottom": null,
            "_model_module": "@jupyter-widgets/base",
            "top": null,
            "grid_column": null,
            "overflow_y": null,
            "overflow_x": null,
            "grid_auto_flow": null,
            "grid_area": null,
            "grid_template_columns": null,
            "flex": null,
            "_model_name": "LayoutModel",
            "justify_items": null,
            "grid_row": null,
            "max_height": null,
            "align_content": null,
            "visibility": null,
            "align_self": null,
            "height": null,
            "min_height": null,
            "padding": null,
            "grid_auto_rows": null,
            "grid_gap": null,
            "max_width": null,
            "order": null,
            "_view_module_version": "1.2.0",
            "grid_template_areas": null,
            "object_position": null,
            "object_fit": null,
            "grid_auto_columns": null,
            "margin": null,
            "display": null,
            "left": null
          }
        },
        "43e2409906a24b29aff2c6629e969d18": {
          "model_module": "@jupyter-widgets/controls",
          "model_name": "DescriptionStyleModel",
          "model_module_version": "1.5.0",
          "state": {
            "_view_name": "StyleView",
            "_model_name": "DescriptionStyleModel",
            "description_width": "",
            "_view_module": "@jupyter-widgets/base",
            "_model_module_version": "1.5.0",
            "_view_count": null,
            "_view_module_version": "1.2.0",
            "_model_module": "@jupyter-widgets/controls"
          }
        },
        "8c4608c938c041c49edd5e78be040ab2": {
          "model_module": "@jupyter-widgets/base",
          "model_name": "LayoutModel",
          "model_module_version": "1.2.0",
          "state": {
            "_view_name": "LayoutView",
            "grid_template_rows": null,
            "right": null,
            "justify_content": null,
            "_view_module": "@jupyter-widgets/base",
            "overflow": null,
            "_model_module_version": "1.2.0",
            "_view_count": null,
            "flex_flow": null,
            "width": null,
            "min_width": null,
            "border": null,
            "align_items": null,
            "bottom": null,
            "_model_module": "@jupyter-widgets/base",
            "top": null,
            "grid_column": null,
            "overflow_y": null,
            "overflow_x": null,
            "grid_auto_flow": null,
            "grid_area": null,
            "grid_template_columns": null,
            "flex": null,
            "_model_name": "LayoutModel",
            "justify_items": null,
            "grid_row": null,
            "max_height": null,
            "align_content": null,
            "visibility": null,
            "align_self": null,
            "height": null,
            "min_height": null,
            "padding": null,
            "grid_auto_rows": null,
            "grid_gap": null,
            "max_width": null,
            "order": null,
            "_view_module_version": "1.2.0",
            "grid_template_areas": null,
            "object_position": null,
            "object_fit": null,
            "grid_auto_columns": null,
            "margin": null,
            "display": null,
            "left": null
          }
        },
        "e6bbf101c86a499aa8ab65d22f52254f": {
          "model_module": "@jupyter-widgets/controls",
          "model_name": "HBoxModel",
          "model_module_version": "1.5.0",
          "state": {
            "_view_name": "HBoxView",
            "_dom_classes": [],
            "_model_name": "HBoxModel",
            "_view_module": "@jupyter-widgets/controls",
            "_model_module_version": "1.5.0",
            "_view_count": null,
            "_view_module_version": "1.5.0",
            "box_style": "",
            "layout": "IPY_MODEL_5df8de7391ff4c689ac78879a952b3ff",
            "_model_module": "@jupyter-widgets/controls",
            "children": [
              "IPY_MODEL_108f1182a33a4b55941653539dda5a5f",
              "IPY_MODEL_1c4843e579d2494499d55bbcfa138023",
              "IPY_MODEL_8feed83a84dc4ea7b4d84f3d3530abb8"
            ]
          }
        },
        "5df8de7391ff4c689ac78879a952b3ff": {
          "model_module": "@jupyter-widgets/base",
          "model_name": "LayoutModel",
          "model_module_version": "1.2.0",
          "state": {
            "_view_name": "LayoutView",
            "grid_template_rows": null,
            "right": null,
            "justify_content": null,
            "_view_module": "@jupyter-widgets/base",
            "overflow": null,
            "_model_module_version": "1.2.0",
            "_view_count": null,
            "flex_flow": null,
            "width": null,
            "min_width": null,
            "border": null,
            "align_items": null,
            "bottom": null,
            "_model_module": "@jupyter-widgets/base",
            "top": null,
            "grid_column": null,
            "overflow_y": null,
            "overflow_x": null,
            "grid_auto_flow": null,
            "grid_area": null,
            "grid_template_columns": null,
            "flex": null,
            "_model_name": "LayoutModel",
            "justify_items": null,
            "grid_row": null,
            "max_height": null,
            "align_content": null,
            "visibility": null,
            "align_self": null,
            "height": null,
            "min_height": null,
            "padding": null,
            "grid_auto_rows": null,
            "grid_gap": null,
            "max_width": null,
            "order": null,
            "_view_module_version": "1.2.0",
            "grid_template_areas": null,
            "object_position": null,
            "object_fit": null,
            "grid_auto_columns": null,
            "margin": null,
            "display": null,
            "left": null
          }
        },
        "108f1182a33a4b55941653539dda5a5f": {
          "model_module": "@jupyter-widgets/controls",
          "model_name": "HTMLModel",
          "model_module_version": "1.5.0",
          "state": {
            "_view_name": "HTMLView",
            "style": "IPY_MODEL_6a5d04378f094b3db2f92832a2971b6a",
            "_dom_classes": [],
            "description": "",
            "_model_name": "HTMLModel",
            "placeholder": "​",
            "_view_module": "@jupyter-widgets/controls",
            "_model_module_version": "1.5.0",
            "value": "100%",
            "_view_count": null,
            "_view_module_version": "1.5.0",
            "description_tooltip": null,
            "_model_module": "@jupyter-widgets/controls",
            "layout": "IPY_MODEL_37c7c22cf3cd42c6af3593eaa2ea40b1"
          }
        },
        "1c4843e579d2494499d55bbcfa138023": {
          "model_module": "@jupyter-widgets/controls",
          "model_name": "FloatProgressModel",
          "model_module_version": "1.5.0",
          "state": {
            "_view_name": "ProgressView",
            "style": "IPY_MODEL_1d0c981174724666ac8b15065399024d",
            "_dom_classes": [],
            "description": "",
            "_model_name": "FloatProgressModel",
            "bar_style": "success",
            "max": 20,
            "_view_module": "@jupyter-widgets/controls",
            "_model_module_version": "1.5.0",
            "value": 20,
            "_view_count": null,
            "_view_module_version": "1.5.0",
            "orientation": "horizontal",
            "min": 0,
            "description_tooltip": null,
            "_model_module": "@jupyter-widgets/controls",
            "layout": "IPY_MODEL_51d7590771264c48b36c70e2b2b049ad"
          }
        },
        "8feed83a84dc4ea7b4d84f3d3530abb8": {
          "model_module": "@jupyter-widgets/controls",
          "model_name": "HTMLModel",
          "model_module_version": "1.5.0",
          "state": {
            "_view_name": "HTMLView",
            "style": "IPY_MODEL_50b4ed58d875435c9d62010c789936d1",
            "_dom_classes": [],
            "description": "",
            "_model_name": "HTMLModel",
            "placeholder": "​",
            "_view_module": "@jupyter-widgets/controls",
            "_model_module_version": "1.5.0",
            "value": " 20/20 [1:54:07&lt;00:00, 351.82s/it]",
            "_view_count": null,
            "_view_module_version": "1.5.0",
            "description_tooltip": null,
            "_model_module": "@jupyter-widgets/controls",
            "layout": "IPY_MODEL_02bf6790791d4d03b97f02675fd108ba"
          }
        },
        "6a5d04378f094b3db2f92832a2971b6a": {
          "model_module": "@jupyter-widgets/controls",
          "model_name": "DescriptionStyleModel",
          "model_module_version": "1.5.0",
          "state": {
            "_view_name": "StyleView",
            "_model_name": "DescriptionStyleModel",
            "description_width": "",
            "_view_module": "@jupyter-widgets/base",
            "_model_module_version": "1.5.0",
            "_view_count": null,
            "_view_module_version": "1.2.0",
            "_model_module": "@jupyter-widgets/controls"
          }
        },
        "37c7c22cf3cd42c6af3593eaa2ea40b1": {
          "model_module": "@jupyter-widgets/base",
          "model_name": "LayoutModel",
          "model_module_version": "1.2.0",
          "state": {
            "_view_name": "LayoutView",
            "grid_template_rows": null,
            "right": null,
            "justify_content": null,
            "_view_module": "@jupyter-widgets/base",
            "overflow": null,
            "_model_module_version": "1.2.0",
            "_view_count": null,
            "flex_flow": null,
            "width": null,
            "min_width": null,
            "border": null,
            "align_items": null,
            "bottom": null,
            "_model_module": "@jupyter-widgets/base",
            "top": null,
            "grid_column": null,
            "overflow_y": null,
            "overflow_x": null,
            "grid_auto_flow": null,
            "grid_area": null,
            "grid_template_columns": null,
            "flex": null,
            "_model_name": "LayoutModel",
            "justify_items": null,
            "grid_row": null,
            "max_height": null,
            "align_content": null,
            "visibility": null,
            "align_self": null,
            "height": null,
            "min_height": null,
            "padding": null,
            "grid_auto_rows": null,
            "grid_gap": null,
            "max_width": null,
            "order": null,
            "_view_module_version": "1.2.0",
            "grid_template_areas": null,
            "object_position": null,
            "object_fit": null,
            "grid_auto_columns": null,
            "margin": null,
            "display": null,
            "left": null
          }
        },
        "1d0c981174724666ac8b15065399024d": {
          "model_module": "@jupyter-widgets/controls",
          "model_name": "ProgressStyleModel",
          "model_module_version": "1.5.0",
          "state": {
            "_view_name": "StyleView",
            "_model_name": "ProgressStyleModel",
            "description_width": "",
            "_view_module": "@jupyter-widgets/base",
            "_model_module_version": "1.5.0",
            "_view_count": null,
            "_view_module_version": "1.2.0",
            "bar_color": null,
            "_model_module": "@jupyter-widgets/controls"
          }
        },
        "51d7590771264c48b36c70e2b2b049ad": {
          "model_module": "@jupyter-widgets/base",
          "model_name": "LayoutModel",
          "model_module_version": "1.2.0",
          "state": {
            "_view_name": "LayoutView",
            "grid_template_rows": null,
            "right": null,
            "justify_content": null,
            "_view_module": "@jupyter-widgets/base",
            "overflow": null,
            "_model_module_version": "1.2.0",
            "_view_count": null,
            "flex_flow": null,
            "width": null,
            "min_width": null,
            "border": null,
            "align_items": null,
            "bottom": null,
            "_model_module": "@jupyter-widgets/base",
            "top": null,
            "grid_column": null,
            "overflow_y": null,
            "overflow_x": null,
            "grid_auto_flow": null,
            "grid_area": null,
            "grid_template_columns": null,
            "flex": null,
            "_model_name": "LayoutModel",
            "justify_items": null,
            "grid_row": null,
            "max_height": null,
            "align_content": null,
            "visibility": null,
            "align_self": null,
            "height": null,
            "min_height": null,
            "padding": null,
            "grid_auto_rows": null,
            "grid_gap": null,
            "max_width": null,
            "order": null,
            "_view_module_version": "1.2.0",
            "grid_template_areas": null,
            "object_position": null,
            "object_fit": null,
            "grid_auto_columns": null,
            "margin": null,
            "display": null,
            "left": null
          }
        },
        "50b4ed58d875435c9d62010c789936d1": {
          "model_module": "@jupyter-widgets/controls",
          "model_name": "DescriptionStyleModel",
          "model_module_version": "1.5.0",
          "state": {
            "_view_name": "StyleView",
            "_model_name": "DescriptionStyleModel",
            "description_width": "",
            "_view_module": "@jupyter-widgets/base",
            "_model_module_version": "1.5.0",
            "_view_count": null,
            "_view_module_version": "1.2.0",
            "_model_module": "@jupyter-widgets/controls"
          }
        },
        "02bf6790791d4d03b97f02675fd108ba": {
          "model_module": "@jupyter-widgets/base",
          "model_name": "LayoutModel",
          "model_module_version": "1.2.0",
          "state": {
            "_view_name": "LayoutView",
            "grid_template_rows": null,
            "right": null,
            "justify_content": null,
            "_view_module": "@jupyter-widgets/base",
            "overflow": null,
            "_model_module_version": "1.2.0",
            "_view_count": null,
            "flex_flow": null,
            "width": null,
            "min_width": null,
            "border": null,
            "align_items": null,
            "bottom": null,
            "_model_module": "@jupyter-widgets/base",
            "top": null,
            "grid_column": null,
            "overflow_y": null,
            "overflow_x": null,
            "grid_auto_flow": null,
            "grid_area": null,
            "grid_template_columns": null,
            "flex": null,
            "_model_name": "LayoutModel",
            "justify_items": null,
            "grid_row": null,
            "max_height": null,
            "align_content": null,
            "visibility": null,
            "align_self": null,
            "height": null,
            "min_height": null,
            "padding": null,
            "grid_auto_rows": null,
            "grid_gap": null,
            "max_width": null,
            "order": null,
            "_view_module_version": "1.2.0",
            "grid_template_areas": null,
            "object_position": null,
            "object_fit": null,
            "grid_auto_columns": null,
            "margin": null,
            "display": null,
            "left": null
          }
        }
      }
    }
  },
  "cells": [
    {
      "cell_type": "markdown",
      "metadata": {
        "id": "C71juhXhFCEJ"
      },
      "source": [
        "# Tutorial on Multi-Layer Perceptron\n",
        "\n",
        "In this tutorial, we will work on creating a multi-layer perceptron to classify hand-written digits from the MNIST dataset using Tensorflow and Keras. (Keras is part of Tensorflow as of TF 2.0)\n",
        "\n",
        "We will explore the effect of the size of the training and testing sets as well as overfitting & underfitting."
      ]
    },
    {
      "cell_type": "code",
      "metadata": {
        "id": "npz1LKHQFCEZ"
      },
      "source": [
        "# import required packages\n",
        "import numpy as np\n",
        "import matplotlib.pyplot as plt\n",
        "import tensorflow.keras as keras\n",
        "# make it easier to understand by importing the required libraries within keras\n",
        "from tensorflow.keras.layers import Dense, Flatten\n",
        "from statistics import mean\n",
        "import os\n",
        "os.environ['KMP_DUPLICATE_LIB_OK']='True'"
      ],
      "execution_count": null,
      "outputs": []
    },
    {
      "cell_type": "markdown",
      "metadata": {
        "id": "g5YgNjk8FCEe"
      },
      "source": [
        "## Step 1: Load and explore the dataset\n",
        "First step is to load the fashion MNIST dataset. Keras has functions to directly download some famous __[datasets](https://www.tensorflow.org/api_docs/python/tf/keras/datasets)__. The first time you run this command, it will install the dataset. \n",
        "\n",
        "The dataset contains 70,000 samples. Each sample is a single channel (i.e. grayscale) 28x28 (pixels) image.\n",
        "\n",
        "We have 10 classes:\n",
        "T-shirt/top\n",
        "Trouser\n",
        "Pullover\n",
        "Dress\n",
        "Coat\n",
        "Sandal\n",
        "Shirt\n",
        "Sneaker\n",
        "Bag\n",
        "Ankle boot\n"
      ]
    },
    {
      "cell_type": "code",
      "metadata": {
        "colab": {
          "base_uri": "https://localhost:8080/"
        },
        "id": "aM6bI0tqFCEg",
        "outputId": "76e16a72-4b6f-439f-a1df-2e1df81bf6ed"
      },
      "source": [
        "(x_train, y_train), (x_test, y_test) = keras.datasets.fashion_mnist.load_data()\n",
        "\n",
        "# explore the dataset\n",
        "print('Training set shape: {}'.format(x_train.shape))\n",
        "print('Training labels shape: {}'.format(y_train.shape))\n",
        "print('Test set shape: {}'.format(x_test.shape))\n",
        "print('Test labels shape: {}'.format(y_test.shape))"
      ],
      "execution_count": null,
      "outputs": [
        {
          "output_type": "stream",
          "name": "stdout",
          "text": [
            "Downloading data from https://storage.googleapis.com/tensorflow/tf-keras-datasets/train-labels-idx1-ubyte.gz\n",
            "32768/29515 [=================================] - 0s 0us/step\n",
            "40960/29515 [=========================================] - 0s 0us/step\n",
            "Downloading data from https://storage.googleapis.com/tensorflow/tf-keras-datasets/train-images-idx3-ubyte.gz\n",
            "26427392/26421880 [==============================] - 0s 0us/step\n",
            "26435584/26421880 [==============================] - 0s 0us/step\n",
            "Downloading data from https://storage.googleapis.com/tensorflow/tf-keras-datasets/t10k-labels-idx1-ubyte.gz\n",
            "16384/5148 [===============================================================================================] - 0s 0us/step\n",
            "Downloading data from https://storage.googleapis.com/tensorflow/tf-keras-datasets/t10k-images-idx3-ubyte.gz\n",
            "4423680/4422102 [==============================] - 0s 0us/step\n",
            "4431872/4422102 [==============================] - 0s 0us/step\n",
            "Training set shape: (60000, 28, 28)\n",
            "Training labels shape: (60000,)\n",
            "Test set shape: (10000, 28, 28)\n",
            "Test labels shape: (10000,)\n"
          ]
        }
      ]
    },
    {
      "cell_type": "markdown",
      "metadata": {
        "id": "InKucqeSFCEl"
      },
      "source": [
        "As we can see, the training set has 60k images while the test set has 10k.\n",
        "\n",
        "Let us have a closer look at the dataset before we start working with it. It is always a good practice to check the size, the range of values for the input and output, and visualize a few samples.\n",
        "\n",
        "It is also a good idea to check the format of the labels. They may be given as integers of on-hot encoded vectors."
      ]
    },
    {
      "cell_type": "code",
      "metadata": {
        "colab": {
          "base_uri": "https://localhost:8080/",
          "height": 266
        },
        "id": "SzpDPy1dFCEn",
        "outputId": "233e20f9-b896-4f1f-ecf6-fa192aaccb36"
      },
      "source": [
        "labels = set(y_train)\n",
        "\n",
        "print('Sample labels are: {}'.format(y_train[:20]))\n",
        "print('The classes are: {}'.format(labels))\n",
        "print('The values in the input data range from {} to {}'.format(x_train.min(),x_train.max()))\n",
        "\n",
        "# Visualize a sample from each class\n",
        "i = 0\n",
        "for label in labels:\n",
        "    imgs = x_test[y_test==label]\n",
        "    img = imgs[0]\n",
        "    \n",
        "    # plot\n",
        "    plt.subplot(2,5,i+1)\n",
        "    plt.imshow(img, cmap='gray')\n",
        "    plt.title('Class %.f' %label)\n",
        "    plt.axis('off')\n",
        "    plt.subplots_adjust(wspace = 0.4)\n",
        "    i+=1\n"
      ],
      "execution_count": null,
      "outputs": [
        {
          "output_type": "stream",
          "name": "stdout",
          "text": [
            "Sample labels are: [9 0 0 3 0 2 7 2 5 5 0 9 5 5 7 9 1 0 6 4]\n",
            "The classes are: {0, 1, 2, 3, 4, 5, 6, 7, 8, 9}\n",
            "The values in the input data range from 0 to 255\n"
          ]
        },
        {
          "output_type": "display_data",
          "data": {
            "image/png": "[encoded data removed]",
            "text/plain": [
              "<Figure size 432x288 with 10 Axes>"
            ]
          },
          "metadata": {
            "needs_background": "light"
          }
        }
      ]
    },
    {
      "cell_type": "markdown",
      "metadata": {
        "id": "Iiv57CWLFCEr"
      },
      "source": [
        "We have 10 classes as expected (0-9). The values of the input range from 0-255, and this seems correct since the images are all in grayscale.\n",
        "\n",
        "If you are using a pre-trained model, it is important to know what normalization was used on the input in training and use the same on your input data. Likewise, your training and testing data should be normalized in the same way.\n",
        "\n",
        "We usually normalize images to have pixel values in the range of 0-1 or 0 mean and unit variance.\n",
        "\n",
        "In this example, we will normalize using min-max normalization which will set all our values to have a minimum of 0 and a maximum of one.\n",
        "\n",
        "$x_{i}' = \\frac{x_{i}-min(x)}{max(x)-min(x)}$\n",
        "\n",
        "Where x is the feature (column). We already know that the minimum value is 0 and the maximum is 255 for all features, so we'll directly apply that in our equation. \n",
        "\n",
        "An alternative would be to use __[MinMax scaler from sklearn](https://scikit-learn.org/stable/modules/generated/sklearn.preprocessing.minmax_scale.html#sklearn.preprocessing.minmax_scale)__."
      ]
    },
    {
      "cell_type": "code",
      "metadata": {
        "colab": {
          "base_uri": "https://localhost:8080/"
        },
        "id": "EzSKP7V5FCEu",
        "outputId": "b86992f7-a07f-436c-e5aa-f0759069c473"
      },
      "source": [
        "x_train = x_train.astype(float)/255\n",
        "x_test = x_test.astype(float)/255\n",
        "print('The values in the input data range from {} to {}'.format(x_train.min(),x_train.max()))"
      ],
      "execution_count": null,
      "outputs": [
        {
          "output_type": "stream",
          "name": "stdout",
          "text": [
            "The values in the input data range from 0.0 to 1.0\n"
          ]
        }
      ]
    },
    {
      "cell_type": "markdown",
      "metadata": {
        "id": "76AIwtXVFCEw"
      },
      "source": [
        "We will be using softmax as the activation function in the last layer, which outputs our labels one-hot encoded. Generally, we should convert our input labels to the same format. \n",
        "\n",
        "Although tf and keras do that automatically and this is not required in this example, we will go ahead with it to conform to the general case. "
      ]
    },
    {
      "cell_type": "code",
      "metadata": {
        "colab": {
          "base_uri": "https://localhost:8080/"
        },
        "id": "UD-ljR0fFCE0",
        "outputId": "6c9a7f05-de72-47e0-9632-5f445337e3be"
      },
      "source": [
        "# make sure that the labels are still integers (this cell has not been run before)\n",
        "if len(y_train.shape)==1:\n",
        "    y_train = keras.utils.to_categorical(y_train, num_classes=10)\n",
        "    y_test = keras.utils.to_categorical(y_test, num_classes=10)\n",
        "print(y_train.shape, y_test.shape)\n",
        "print(y_train[0:3])\n",
        "print('Old labels: {}'.format(np.argmax(y_train[:3], axis=1)))"
      ],
      "execution_count": null,
      "outputs": [
        {
          "output_type": "stream",
          "name": "stdout",
          "text": [
            "(60000, 10) (10000, 10)\n",
            "[[0. 0. 0. 0. 0. 0. 0. 0. 0. 1.]\n",
            " [1. 0. 0. 0. 0. 0. 0. 0. 0. 0.]\n",
            " [1. 0. 0. 0. 0. 0. 0. 0. 0. 0.]]\n",
            "Old labels: [9 0 0]\n"
          ]
        }
      ]
    },
    {
      "cell_type": "markdown",
      "metadata": {
        "id": "peZ_WOU5FCE2"
      },
      "source": [
        "## Step 2: Defining the MLP Model\n",
        "Now that we have loaded, explored, and preprocessed the dataset, we are ready to create the MLP that we will train to classify the dataset.\n",
        "\n",
        "We will use Keras Sequential API within tensorflow. We will build an MLP with 2 hidden layers (and an input and output layer). All layers in an MLP are fully connected, sometimes also called 'dense' layers.\n",
        "\n",
        "We will first 'Flatten' the input to be one column of (28x28) 784 values. Then we expect the first Dense layer to allow for an input of size 784. \n",
        "\n",
        "We also need to define the number of neurons in each layer. For now, we will go with 64 neurons in each layer. We will also use a Sigmoid activation function for both layers.\n",
        "\n",
        "For the output layer, we need to define the number of units and the type of activation function. Since we will be using a softmax activation function, then we need 10 units in the output layer.\n",
        "\n",
        "In the sequential API from Keras, we define the layers as stacked after one another. You can define them all in one line, or in separate calls to the function 'add'. Just remember that the layers are put in the order you define them."
      ]
    },
    {
      "cell_type": "code",
      "metadata": {
        "colab": {
          "base_uri": "https://localhost:8080/"
        },
        "id": "RScFY8iyFCE7",
        "outputId": "c391bf0f-ec03-453d-8bc5-a991a4a890ec"
      },
      "source": [
        "# define the model type (still empty)\n",
        "mlp = keras.models.Sequential()\n",
        "\n",
        "# add a layer that just flattens the input (no weights here)\n",
        "mlp.add(Flatten(input_shape=(28, 28)))\n",
        "\n",
        "# add the first hidden layer with 64 neurons, an activation function of sigmoid,\n",
        "# and an input size of 784\n",
        "mlp.add(Dense(64, activation='sigmoid', input_shape=(784,)))\n",
        "\n",
        "# add the second hidden layer with 64 neurons and sigmoid activation function\n",
        "mlp.add(Dense(64, activation='sigmoid'))\n",
        "\n",
        "# add the output layer with 10 units and Softmax activation function\n",
        "mlp.add(Dense(10, activation='softmax'))\n",
        "\n",
        "## You can also create the same exact network at once:\n",
        "# model = keras.models.Sequential([\n",
        "#   Flatten(input_shape=(28, 28)),\n",
        "#   Dense(64, activation='sigmoid', input_shape=(784,)),\n",
        "#   Dense(64, activation='sigmoid'),\n",
        "#   Dense(10, activation='softmax')\n",
        "# ])\n",
        "\n",
        "print(mlp.summary())"
      ],
      "execution_count": null,
      "outputs": [
        {
          "output_type": "stream",
          "name": "stdout",
          "text": [
            "Model: \"sequential\"\n",
            "_________________________________________________________________\n",
            " Layer (type)                Output Shape              Param #   \n",
            "=================================================================\n",
            " flatten (Flatten)           (None, 784)               0         \n",
            "                                                                 \n",
            " dense (Dense)               (None, 64)                50240     \n",
            "                                                                 \n",
            " dense_1 (Dense)             (None, 64)                4160      \n",
            "                                                                 \n",
            " dense_2 (Dense)             (None, 10)                650       \n",
            "                                                                 \n",
            "=================================================================\n",
            "Total params: 55,050\n",
            "Trainable params: 55,050\n",
            "Non-trainable params: 0\n",
            "_________________________________________________________________\n",
            "None\n"
          ]
        }
      ]
    },
    {
      "cell_type": "markdown",
      "metadata": {
        "id": "ZulBS0OIFCE_"
      },
      "source": [
        "We now have the network all set. \n",
        "\n",
        "We need to define the optimization process:\n",
        "* What is the loss function that we will try to minimize\n",
        "* What optimizer do we want to use\n",
        "* Metrics we would like to monitor during training (these do not affect the optimization)\n",
        "\n",
        "The loss function depends on the problem we are trying to solve. For multi-class classification, we will use the cross-entropy loss for categorical data: *categorical_crossentropy* in keras.\n",
        "\n",
        "As for the optimizer, we will be using Adam  (a variant of gradient descent) with the default parameters.\n",
        "\n",
        "We will also monitor the accuracy of prediction on the training set using the accuracy metric.\n",
        "\n",
        "To add these parameters, we will compile the model and pass them to the model."
      ]
    },
    {
      "cell_type": "code",
      "metadata": {
        "id": "4N3cJTYZFCFB"
      },
      "source": [
        "mlp.compile(loss='categorical_crossentropy', optimizer='adam', metrics=['accuracy'])"
      ],
      "execution_count": null,
      "outputs": []
    },
    {
      "cell_type": "markdown",
      "metadata": {
        "id": "nShKSw6EFCFD"
      },
      "source": [
        "## Step 3: Training the Model\n",
        "We can now begin our training.\n",
        "\n",
        "Suppose our training set is made of 200 samples only. Let's begin training with that for 100 epochs and see how our network behaves."
      ]
    },
    {
      "cell_type": "code",
      "metadata": {
        "colab": {
          "base_uri": "https://localhost:8080/",
          "height": 279
        },
        "id": "9Dvs6hXrFCFG",
        "outputId": "7aeb4e25-6055-4770-cd87-c1374fa5a1be"
      },
      "source": [
        "h = mlp.fit(x_train[:200], y_train[:200], epochs=100, batch_size=40, verbose=0)\n",
        "\n",
        "# plot the training accuracy\n",
        "plt.plot(h.history['accuracy'])\n",
        "plt.xlabel(\"# of epochs\")\n",
        "plt.ylabel(\"accuracy\")\n",
        "plt.grid()"
      ],
      "execution_count": null,
      "outputs": [
        {
          "output_type": "display_data",
          "data": {
            "image/png": "[encoded data removed]",
            "text/plain": [
              "<Figure size 432x288 with 1 Axes>"
            ]
          },
          "metadata": {
            "needs_background": "light"
          }
        }
      ]
    },
    {
      "cell_type": "code",
      "metadata": {
        "colab": {
          "base_uri": "https://localhost:8080/"
        },
        "id": "UJibOVvEFCFI",
        "outputId": "2700f745-6ade-4635-c944-367ae29cc44e"
      },
      "source": [
        "print(x_train.shape)"
      ],
      "execution_count": null,
      "outputs": [
        {
          "output_type": "stream",
          "name": "stdout",
          "text": [
            "(60000, 28, 28)\n"
          ]
        }
      ]
    },
    {
      "cell_type": "markdown",
      "metadata": {
        "id": "qbXAvxGyFCFJ"
      },
      "source": [
        "Very quickly, we reach an accuracy of 100%. You may be tempted to think that your model is good and it can perform well on future data. However, this accuracy is on the training data, and it may not be representative of test accuracy. This can happen for different reasons (mismatch between training and test distributions, limited data, overfitting, etc.)\n",
        "\n",
        "When training a model, what you need to be monitoring is the loss/accuracy on a held-out set, called the **validation set**. So, let’s evaluate our model on the test set to see how it does there."
      ]
    },
    {
      "cell_type": "code",
      "metadata": {
        "colab": {
          "base_uri": "https://localhost:8080/"
        },
        "id": "uO3u2k_FFCFK",
        "outputId": "487a0e85-74f3-4560-d7b6-bf94af196b8c"
      },
      "source": [
        "print('Test accuracy: %.2f %%'%(100*mlp.evaluate(x_test,y_test, verbose=0)[1]))"
      ],
      "execution_count": null,
      "outputs": [
        {
          "output_type": "stream",
          "name": "stdout",
          "text": [
            "Test accuracy: 73.48 %\n"
          ]
        }
      ]
    },
    {
      "cell_type": "markdown",
      "metadata": {
        "id": "1fUfNuzDFCFM"
      },
      "source": [
        "Notice how the model does poorly on the test set, and compare that to how well it does on the training set. The reason in this case is that we did not use enough training data, and the model did not generalize enough.\n",
        "\n",
        "Let's use the whole training set and take 25% of it as a validation set to monitor the performance."
      ]
    },
    {
      "cell_type": "code",
      "metadata": {
        "id": "ASN8lpbeFCFM"
      },
      "source": [
        "h = mlp.fit(x_train, y_train, epochs=10, batch_size=32, validation_split=0.25, verbose=0)"
      ],
      "execution_count": null,
      "outputs": []
    },
    {
      "cell_type": "code",
      "metadata": {
        "colab": {
          "base_uri": "https://localhost:8080/",
          "height": 313
        },
        "id": "mIrGinPVFCFN",
        "outputId": "19e0c218-342c-47d8-90a6-34f39fe23648"
      },
      "source": [
        "plt.plot(h.history['accuracy'])\n",
        "plt.plot(h.history['val_accuracy'], 'r')\n",
        "plt.legend(['train acc', 'val acc'])\n",
        "plt.xlabel(\"# of epochs\")\n",
        "plt.ylabel(\"accuracy\")\n",
        "plt.grid()\n",
        "\n",
        "print('train acc: %.2f %% \\nval acc: %.2f %%'%(h.history['accuracy'][-1]*100,h.history['val_accuracy'][-1]*100))"
      ],
      "execution_count": null,
      "outputs": [
        {
          "output_type": "stream",
          "name": "stdout",
          "text": [
            "train acc: 90.06 % \n",
            "val acc: 87.60 %\n"
          ]
        },
        {
          "output_type": "display_data",
          "data": {
            "image/png": "[encoded data removed]",
            "text/plain": [
              "<Figure size 432x288 with 1 Axes>"
            ]
          },
          "metadata": {
            "needs_background": "light"
          }
        }
      ]
    },
    {
      "cell_type": "markdown",
      "metadata": {
        "id": "BlVpxJOQFCFO"
      },
      "source": [
        "Evaluate the test set again to see if this changes anything"
      ]
    },
    {
      "cell_type": "code",
      "metadata": {
        "colab": {
          "base_uri": "https://localhost:8080/"
        },
        "id": "JLq9EBYtFCFO",
        "outputId": "2fdb237a-b99c-446e-c2fe-ec9c37992c9c"
      },
      "source": [
        "print('Test accuracy: %.2f %%'%(100*mlp.evaluate(x_test,y_test, verbose=0)[1]))"
      ],
      "execution_count": null,
      "outputs": [
        {
          "output_type": "stream",
          "name": "stdout",
          "text": [
            "Test accuracy: 86.60 %\n"
          ]
        }
      ]
    },
    {
      "cell_type": "markdown",
      "metadata": {
        "id": "ZLQZ5YriFCFP"
      },
      "source": [
        "So we can see that the validation accuracy is a better estimate of the test accuracy."
      ]
    },
    {
      "cell_type": "code",
      "metadata": {
        "id": "aK9UyVAqPm9-"
      },
      "source": [
        "#add another hidden layer to test the performance\n",
        "h_total_train=np.empty((0,10))\n",
        "h_total_val=np.empty((0,10))\n",
        "total_acc=[]\n",
        "number_of_runs=10\n",
        "for i in range(number_of_runs):\n",
        "  mlp =keras.models.Sequential([\n",
        "  Flatten(input_shape=(28, 28)),\n",
        "  Dense(64, activation='sigmoid', input_shape=(784,)),\n",
        "  Dense(64, activation='sigmoid'),\n",
        "  Dense(10, activation='softmax')])\n",
        "  mlp.compile(loss='categorical_crossentropy', optimizer='adam', metrics=['accuracy'])\n",
        "  h = mlp.fit(x_train, y_train, epochs=10, batch_size=32, validation_split=0.25, verbose=0)\n",
        "  h_total_train=np.append(h_total_train,np.array([h.history['accuracy']]),axis=0)\n",
        "  h_total_val=np.append(h_total_val,np.array([h.history['val_accuracy']]),axis=0)\n",
        "  total_acc.append(mlp.evaluate(x_test,y_test, verbose=0)[1])"
      ],
      "execution_count": null,
      "outputs": []
    },
    {
      "cell_type": "code",
      "metadata": {
        "colab": {
          "base_uri": "https://localhost:8080/",
          "height": 510
        },
        "id": "a8pRLSr8uIFo",
        "outputId": "a9069217-0af7-4301-ea92-d959c0c8aba9"
      },
      "source": [
        "for i in range(number_of_runs):\n",
        "  f=plt.subplot(2,5,i+1)\n",
        "  f.figure.set_size_inches(30,10)\n",
        "  plt.plot(h_total_train[i])\n",
        "  plt.plot(h_total_val[i],'r')\n",
        "  plt.legend(['train acc', 'val acc']) \n",
        "  plt.title(\"run # %d\"%(i+1))\n",
        "  plt.xlabel(\"# of epochs\")\n",
        "  plt.ylabel(\"accuracy\")\n",
        "  plt.grid()\n"
      ],
      "execution_count": null,
      "outputs": [
        {
          "output_type": "display_data",
          "data": {
            "image/png": "[encoded data removed]",
            "text/plain": [
              "<Figure size 2160x720 with 10 Axes>"
            ]
          },
          "metadata": {
            "needs_background": "light"
          }
        }
      ]
    },
    {
      "cell_type": "code",
      "metadata": {
        "colab": {
          "base_uri": "https://localhost:8080/",
          "height": 279
        },
        "id": "92E5NKUoezJV",
        "outputId": "d95cc68a-f65e-47dc-8ed7-3f98e8fc6b7b"
      },
      "source": [
        "h_avg_train=np.average(h_total_train,axis=0)\n",
        "h_avg_val=np.average(h_total_val,axis=0)\n",
        "plt.plot(h_avg_train)\n",
        "plt.plot(h_avg_val, 'r')\n",
        "plt.legend(['avg train acc', 'avg val acc'])\n",
        "plt.xlabel(\"# of epochs\")\n",
        "plt.ylabel(\"accuracy\")\n",
        "plt.grid()\n"
      ],
      "execution_count": null,
      "outputs": [
        {
          "output_type": "display_data",
          "data": {
            "image/png": "[encoded data removed]",
            "text/plain": [
              "<Figure size 432x288 with 1 Axes>"
            ]
          },
          "metadata": {
            "needs_background": "light"
          }
        }
      ]
    },
    {
      "cell_type": "code",
      "metadata": {
        "colab": {
          "base_uri": "https://localhost:8080/"
        },
        "id": "GNzT0VAJrrlX",
        "outputId": "2e51de29-51bd-4246-8db1-65c9294ff5c5"
      },
      "source": [
        "print('Test accuracy: %.2f %%'%(100*mean(total_acc)))"
      ],
      "execution_count": null,
      "outputs": [
        {
          "output_type": "stream",
          "name": "stdout",
          "text": [
            "Test accuracy: 87.08 %\n"
          ]
        }
      ]
    },
    {
      "cell_type": "code",
      "metadata": {
        "colab": {
          "base_uri": "https://localhost:8080/",
          "height": 279
        },
        "id": "wSyY9p2nwN9E",
        "outputId": "b1137642-555f-4607-a67c-da603897c47a"
      },
      "source": [
        "ten_runs_train=[]\n",
        "ten_runs_val=[]\n",
        "for i in range(number_of_runs):\n",
        "  ten_runs_train.append(h_total_train[i][-1])\n",
        "  ten_runs_val.append(h_total_val[i][-1])\n",
        "\n",
        "plt.plot(ten_runs_train)\n",
        "plt.plot(range(0,10),[h_avg_train[-1]]*10,'r')\n",
        "plt.legend(['train acc', 'average train acc']) \n",
        "plt.xlabel(\"# of runs\")\n",
        "plt.ylabel(\"accuracy\")\n",
        "plt.grid()"
      ],
      "execution_count": null,
      "outputs": [
        {
          "output_type": "display_data",
          "data": {
            "image/png": "[encoded data removed]",
            "text/plain": [
              "<Figure size 432x288 with 1 Axes>"
            ]
          },
          "metadata": {
            "needs_background": "light"
          }
        }
      ]
    },
    {
      "cell_type": "markdown",
      "metadata": {
        "id": "cDYQwnxFFCFP"
      },
      "source": [
        "## Overfitting\n",
        "In some cases, a model could be overfit the training data. You can idenitfy this situation if you notice your training accuracy increasing while the validation accuracy is decreasing. \n",
        "* Adding more training data is one way to counter this issue, but that is not always feasible.\n",
        "* Another approach is to simplify your model: if your model is a very high capacity (many layers/units) while your data is limited, you are probably going to overfit. \n",
        "\n",
        "To see this in action, let’s look at this toy regression example."
      ]
    },
    {
      "cell_type": "markdown",
      "metadata": {
        "id": "2bzCW7zQFCFQ"
      },
      "source": [
        "Suppose the input is 2-dimensional ($x_{1}$, $x_{2}$) and that $y = 3x_{1} + 2x_{2}$ + 2n, where n is some random\n",
        "noise. \n",
        "\n",
        "Let’s generate 100 samples from this model."
      ]
    },
    {
      "cell_type": "code",
      "metadata": {
        "id": "t6umalvyFCFQ"
      },
      "source": [
        "x = 6*np.random.rand(100,2) -3\n",
        "y = 3*x[:,0] + 2*x[:,1] + 2*np.random.rand(100,)"
      ],
      "execution_count": null,
      "outputs": []
    },
    {
      "cell_type": "markdown",
      "metadata": {
        "id": "7y9JvCj3FCFQ"
      },
      "source": [
        "Now we'll create an MLP for this regression problem, this will follow the same steps bit with a few differences in the loss and kind of activation function."
      ]
    },
    {
      "cell_type": "code",
      "metadata": {
        "id": "RleskG3bFCFR",
        "colab": {
          "base_uri": "https://localhost:8080/",
          "height": 279
        },
        "outputId": "36a294f3-4422-4151-cb88-9a2dce801a04"
      },
      "source": [
        "mlp = keras.models.Sequential([\n",
        "    Dense(1024, activation='relu', input_shape=(2,)),\n",
        "    Dense(512, activation='relu'),\n",
        "    Dense(1, activation='linear')\n",
        "          ])\n",
        "mlp.compile(loss='mean_squared_error', optimizer='adam')\n",
        "\n",
        "h = mlp.fit(x, y, epochs=2000, batch_size=50, validation_split=0.3, verbose=0)\n",
        "\n",
        "plt.plot(np.log10(h.history['loss']))\n",
        "plt.plot(np.log10(h.history['val_loss']), 'r')\n",
        "plt.legend(['train loss', 'val loss'])\n",
        "plt.xlabel(\"# of epochs\")\n",
        "plt.grid()"
      ],
      "execution_count": null,
      "outputs": [
        {
          "output_type": "display_data",
          "data": {
            "image/png": "[encoded data removed]",
            "text/plain": [
              "<Figure size 432x288 with 1 Axes>"
            ]
          },
          "metadata": {
            "needs_background": "light"
          }
        }
      ]
    },
    {
      "cell_type": "markdown",
      "metadata": {
        "id": "QR6lA6WpFCFS"
      },
      "source": [
        "Note how the validation goes down at first, and then starts to go back up. This is an indication of overfitting. One way to counter this (aside from adding more data), is to use early stopping: stop training when the validation loss begins to increase.\n",
        "\n",
        "Another approach, as we mentioned earlier, is to simplify our model, say by reducing the number of units from 1024 to 64 and removing the second hidden layer."
      ]
    },
    {
      "cell_type": "code",
      "metadata": {
        "id": "dVdBdaU7FCFS",
        "colab": {
          "base_uri": "https://localhost:8080/",
          "height": 279
        },
        "outputId": "adb8dc6f-c2ab-4bba-e5b5-34105a2a62ed"
      },
      "source": [
        "mlp2 = keras.models.Sequential([\n",
        "    Dense(64, activation='relu', input_shape=(2,)),\n",
        "    Dense(1, activation='linear')\n",
        "          ])\n",
        "mlp2.compile(loss='mean_squared_error', optimizer='adam')\n",
        "\n",
        "\n",
        "h = mlp2.fit(x, y, epochs=2000, batch_size=50, validation_split=0.3, verbose=0)\n",
        "plt.plot(np.log10(h.history['loss']))\n",
        "plt.plot(np.log10(h.history['val_loss']), 'r')\n",
        "plt.legend(['train loss', 'val loss'])\n",
        "plt.xlabel(\"# of epochs\")\n",
        "plt.grid()"
      ],
      "execution_count": null,
      "outputs": [
        {
          "output_type": "display_data",
          "data": {
            "image/png": "[encoded data removed]",
            "text/plain": [
              "<Figure size 432x288 with 1 Axes>"
            ]
          },
          "metadata": {
            "needs_background": "light"
          }
        }
      ]
    },
    {
      "cell_type": "code",
      "metadata": {
        "id": "kddwMRRixH8w"
      },
      "source": [
        "from tqdm.auto import tqdm"
      ],
      "execution_count": null,
      "outputs": []
    },
    {
      "cell_type": "code",
      "metadata": {
        "id": "NjKXU9tSSVij",
        "colab": {
          "base_uri": "https://localhost:8080/",
          "height": 49,
          "referenced_widgets": [
            "583fdbc872474d57a022e33dc93a0a2a",
            "97cb31e35b0a4963acbc598dccd5a6a8",
            "ac687594667b4f8aa13d5944d2ab2707",
            "a755d32d072947f2aa3e910f7bdb23e2",
            "372c8e4f665849059a7d1df8f44a7c04",
            "4a1bbc9357484b2a88b787517cabcd18",
            "1a37dec5542b4f1e87195343943f903b",
            "ee2c95a86bd64ce7987b117223e2eed1",
            "7fdde387e3a74b8b82671182113826d6",
            "7fc8d0c70d6349eaa871004159806564",
            "8270d1a12b1342c28d0f1b7fac67daca"
          ]
        },
        "outputId": "d3f3a6fd-106e-43e2-e667-21dbf09aec74"
      },
      "source": [
        "acc_list = list()\n",
        "for n_layers in tqdm(range(1, 10)):\n",
        "  tmp_acc_list = list()\n",
        "  for _ in range(10):\n",
        "    mlp = keras.models.Sequential()\n",
        "    mlp.add(Flatten(input_shape=(28, 28)))\n",
        "    for _ in range(n_layers):\n",
        "      mlp.add(Dense(64, activation='sigmoid'))\n",
        "    mlp.add(Dense(10, activation='softmax'))\n",
        "    mlp.compile(loss='categorical_crossentropy', optimizer='sgd', metrics=['accuracy'])\n",
        "    mlp.fit(x_train, y_train, epochs=10, batch_size=32, validation_split=0.25, verbose=0)\n",
        "    acc = mlp.evaluate(x_test, y_test, verbose=0)[1]\n",
        "    tmp_acc_list.append(acc)\n",
        "  acc = sum(tmp_acc_list) / len(tmp_acc_list)\n",
        "  acc_list.append(acc)"
      ],
      "execution_count": null,
      "outputs": [
        {
          "output_type": "display_data",
          "data": {
            "application/vnd.jupyter.widget-view+json": {
              "model_id": "583fdbc872474d57a022e33dc93a0a2a",
              "version_minor": 0,
              "version_major": 2
            },
            "text/plain": [
              "  0%|          | 0/9 [00:00<?, ?it/s]"
            ]
          },
          "metadata": {}
        }
      ]
    },
    {
      "cell_type": "code",
      "metadata": {
        "colab": {
          "base_uri": "https://localhost:8080/",
          "height": 282
        },
        "id": "F8VDKLGb2FF_",
        "outputId": "4a78a1e4-395e-4020-8c4d-ae4f7794a1f5"
      },
      "source": [
        "plt.plot(acc_list)"
      ],
      "execution_count": null,
      "outputs": [
        {
          "output_type": "execute_result",
          "data": {
            "text/plain": [
              "[<matplotlib.lines.Line2D at 0x7f96b1909c50>]"
            ]
          },
          "metadata": {},
          "execution_count": 24
        },
        {
          "output_type": "display_data",
          "data": {
            "image/png": "[encoded data removed]",
            "text/plain": [
              "<Figure size 432x288 with 1 Axes>"
            ]
          },
          "metadata": {
            "needs_background": "light"
          }
        }
      ]
    },
    {
      "cell_type": "code",
      "metadata": {
        "colab": {
          "base_uri": "https://localhost:8080/",
          "height": 49,
          "referenced_widgets": [
            "c1b249dbe0f948ba87d88435e0c733a1",
            "cde9b4aa4a5b49778daaa36bbd7c0116",
            "805a9222bd784e4a8335de924986c18a",
            "8d4874d864904fb48494e939d2c63184",
            "2673a869427e437d9b59e14ff28b7606",
            "8a15c6604bce49549eca21a1eb0f4358",
            "d429315b957745f782a195334ccdca3f",
            "ce63a57b3c484d658696e83cc4e3f7b0",
            "147669f1e67d4d9586b7a55c4758665c",
            "43e2409906a24b29aff2c6629e969d18",
            "8c4608c938c041c49edd5e78be040ab2"
          ]
        },
        "id": "0AJdXmzB2SqH",
        "outputId": "9dfd9096-c14b-47e8-d307-d1972094ec6a"
      },
      "source": [
        "acc_list = list()\n",
        "for lr in tqdm(np.arange(0.01, 0.2, 0.01)):\n",
        "  tmp_acc_list = list()\n",
        "  for _ in range(10):\n",
        "    mlp = keras.models.Sequential()\n",
        "    mlp.add(Flatten(input_shape=(28, 28)))\n",
        "    for _ in range(2):\n",
        "      mlp.add(Dense(64, activation='sigmoid'))\n",
        "    mlp.add(Dense(10, activation='softmax'))\n",
        "    optimizer = keras.optimizers.SGD(learning_rate=lr)\n",
        "    mlp.compile(loss='categorical_crossentropy', optimizer=optimizer, metrics=['accuracy'])\n",
        "    mlp.fit(x_train, y_train, epochs=10, batch_size=32, validation_split=0.25, verbose=0)\n",
        "    acc = mlp.evaluate(x_test, y_test, verbose=0)[1]\n",
        "    tmp_acc_list.append(acc)\n",
        "  acc = sum(tmp_acc_list) / len(tmp_acc_list)\n",
        "  acc_list.append(acc)"
      ],
      "execution_count": null,
      "outputs": [
        {
          "output_type": "display_data",
          "data": {
            "application/vnd.jupyter.widget-view+json": {
              "model_id": "c1b249dbe0f948ba87d88435e0c733a1",
              "version_minor": 0,
              "version_major": 2
            },
            "text/plain": [
              "  0%|          | 0/19 [00:00<?, ?it/s]"
            ]
          },
          "metadata": {}
        }
      ]
    },
    {
      "cell_type": "code",
      "metadata": {
        "colab": {
          "base_uri": "https://localhost:8080/",
          "height": 282
        },
        "id": "lS8D7ybY2mEV",
        "outputId": "a794e777-ee65-454e-9c33-4d3ee0e64062"
      },
      "source": [
        "plt.plot(np.arange(0.01, 0.2, 0.01), acc_list)"
      ],
      "execution_count": null,
      "outputs": [
        {
          "output_type": "execute_result",
          "data": {
            "text/plain": [
              "[<matplotlib.lines.Line2D at 0x7f96b6142e90>]"
            ]
          },
          "metadata": {},
          "execution_count": 26
        },
        {
          "output_type": "display_data",
          "data": {
            "image/png": "[encoded data removed]",
            "text/plain": [
              "<Figure size 432x288 with 1 Axes>"
            ]
          },
          "metadata": {
            "needs_background": "light"
          }
        }
      ]
    },
    {
      "cell_type": "code",
      "metadata": {
        "colab": {
          "base_uri": "https://localhost:8080/",
          "height": 49,
          "referenced_widgets": [
            "e6bbf101c86a499aa8ab65d22f52254f",
            "5df8de7391ff4c689ac78879a952b3ff",
            "108f1182a33a4b55941653539dda5a5f",
            "1c4843e579d2494499d55bbcfa138023",
            "8feed83a84dc4ea7b4d84f3d3530abb8",
            "6a5d04378f094b3db2f92832a2971b6a",
            "37c7c22cf3cd42c6af3593eaa2ea40b1",
            "1d0c981174724666ac8b15065399024d",
            "51d7590771264c48b36c70e2b2b049ad",
            "50b4ed58d875435c9d62010c789936d1",
            "02bf6790791d4d03b97f02675fd108ba"
          ]
        },
        "id": "s93rD9To2p80",
        "outputId": "95021925-9d52-475d-fcab-f51d545eaf9f"
      },
      "source": [
        "acc_list = list()\n",
        "for m in tqdm(np.arange(0.00, 0.2, 0.01)):\n",
        "  tmp_acc_list = list()\n",
        "  for _ in range(10):\n",
        "    mlp = keras.models.Sequential()\n",
        "    mlp.add(Flatten(input_shape=(28, 28)))\n",
        "    for _ in range(2):\n",
        "      mlp.add(Dense(64, activation='sigmoid'))\n",
        "    mlp.add(Dense(10, activation='softmax'))\n",
        "    optimizer = keras.optimizers.SGD(momentum=m)\n",
        "    mlp.compile(loss='categorical_crossentropy', optimizer=optimizer, metrics=['accuracy'])\n",
        "    mlp.fit(x_train, y_train, epochs=10, batch_size=32, validation_split=0.25, verbose=0)\n",
        "    acc = mlp.evaluate(x_test, y_test, verbose=0)[1]\n",
        "    tmp_acc_list.append(acc)\n",
        "  acc = sum(tmp_acc_list) / len(tmp_acc_list)\n",
        "  acc_list.append(acc)"
      ],
      "execution_count": null,
      "outputs": [
        {
          "output_type": "display_data",
          "data": {
            "application/vnd.jupyter.widget-view+json": {
              "model_id": "e6bbf101c86a499aa8ab65d22f52254f",
              "version_minor": 0,
              "version_major": 2
            },
            "text/plain": [
              "  0%|          | 0/20 [00:00<?, ?it/s]"
            ]
          },
          "metadata": {}
        }
      ]
    },
    {
      "cell_type": "code",
      "metadata": {
        "colab": {
          "base_uri": "https://localhost:8080/",
          "height": 282
        },
        "id": "jL79AP-u29bd",
        "outputId": "430529cf-42c4-41f2-e195-fb26e3c5ea31"
      },
      "source": [
        "plt.plot(np.arange(0.00, 0.2, 0.01), acc_list)"
      ],
      "execution_count": null,
      "outputs": [
        {
          "output_type": "execute_result",
          "data": {
            "text/plain": [
              "[<matplotlib.lines.Line2D at 0x7f96b01c2c10>]"
            ]
          },
          "metadata": {},
          "execution_count": 28
        },
        {
          "output_type": "display_data",
          "data": {
            "image/png": "[encoded data removed]",
            "text/plain": [
              "<Figure size 432x288 with 1 Axes>"
            ]
          },
          "metadata": {
            "needs_background": "light"
          }
        }
      ]
    },
    {
      "cell_type": "code",
      "metadata": {
        "id": "UR3uTyeV2-y1"
      },
      "source": [
        ""
      ],
      "execution_count": null,
      "outputs": []
    }
  ]
}